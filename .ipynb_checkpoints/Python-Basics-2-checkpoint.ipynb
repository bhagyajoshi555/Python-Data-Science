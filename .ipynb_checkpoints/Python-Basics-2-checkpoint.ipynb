{
 "cells": [
  {
   "cell_type": "code",
   "execution_count": 8,
   "metadata": {},
   "outputs": [
    {
     "data": {
      "text/html": [
       "<div>\n",
       "<style scoped>\n",
       "    .dataframe tbody tr th:only-of-type {\n",
       "        vertical-align: middle;\n",
       "    }\n",
       "\n",
       "    .dataframe tbody tr th {\n",
       "        vertical-align: top;\n",
       "    }\n",
       "\n",
       "    .dataframe thead th {\n",
       "        text-align: right;\n",
       "    }\n",
       "</style>\n",
       "<table border=\"1\" class=\"dataframe\">\n",
       "  <thead>\n",
       "    <tr style=\"text-align: right;\">\n",
       "      <th></th>\n",
       "      <th>Random</th>\n",
       "    </tr>\n",
       "  </thead>\n",
       "  <tbody>\n",
       "    <tr>\n",
       "      <td>0</td>\n",
       "      <td>34.0</td>\n",
       "    </tr>\n",
       "    <tr>\n",
       "      <td>1</td>\n",
       "      <td>27.0</td>\n",
       "    </tr>\n",
       "    <tr>\n",
       "      <td>2</td>\n",
       "      <td>54.0</td>\n",
       "    </tr>\n",
       "    <tr>\n",
       "      <td>3</td>\n",
       "      <td>27.0</td>\n",
       "    </tr>\n",
       "    <tr>\n",
       "      <td>4</td>\n",
       "      <td>31.0</td>\n",
       "    </tr>\n",
       "  </tbody>\n",
       "</table>\n",
       "</div>"
      ],
      "text/plain": [
       "   Random\n",
       "0    34.0\n",
       "1    27.0\n",
       "2    54.0\n",
       "3    27.0\n",
       "4    31.0"
      ]
     },
     "execution_count": 8,
     "metadata": {},
     "output_type": "execute_result"
    }
   ],
   "source": [
    "import numpy as np\n",
    "import statistics as st\n",
    "import pandas as pd\n",
    "import matplotlib.pyplot as plt\n",
    "\n",
    "np.random.seed(5)\n",
    "series = np.random.normal(loc=30, scale=10, size=1000)\n",
    "series = np.round(series, 0)\n",
    "\n",
    "series_df = pd.DataFrame(series, columns = [\"Random\"])\n",
    "series_df.head()"
   ]
  },
  {
   "cell_type": "code",
   "execution_count": 24,
   "metadata": {},
   "outputs": [
    {
     "data": {
      "image/png": "[encoded data removed]",
      "text/plain": [
       "<Figure size 432x288 with 1 Axes>"
      ]
     },
     "metadata": {
      "needs_background": "light"
     },
     "output_type": "display_data"
    }
   ],
   "source": [
    "plt.hist(series, color='grey')\n",
    "\n",
    "plt.axvline(series.mean(), color='r', linestyle='solid', linewidth=1)\n",
    "plt.axvline(series.mean()-np.std(series), color='r', linestyle='dashed', linewidth=1)\n",
    "plt.axvline(series.mean()+np.std(series), color='r', linestyle='dashed', linewidth=1)\n",
    "plt.axvline(series.mean()-np.std(series)*2, color='r', linestyle='dashed', linewidth=1)\n",
    "plt.axvline(series.mean()+np.std(series)*2, color='r', linestyle='dashed', linewidth=1)\n",
    "plt.axvline(series.mean()-np.std(series)*3, color='r', linestyle='dashed', linewidth=1)\n",
    "plt.axvline(series.mean()+np.std(series)*3, color='r', linestyle='dashed', linewidth=1)\n",
    "\n",
    "plt.xlabel(\"Age\", fontsize=13)\n",
    "plt.ylabel(\"Count\", fontsize=13)\n",
    "plt.title(\"Histogram of Age of iPhone buyers\", fontsize=13)\n",
    "\n",
    "plt.grid()\n",
    "plt.show()"
   ]
  },
  {
   "cell_type": "code",
   "execution_count": 25,
   "metadata": {},
   "outputs": [
    {
     "data": {
      "text/plain": [
       "array([34., 27., 27., 31., 21., 24., 32., 27., 28., 26., 36., 23., 36.,\n",
       "       21., 21., 26., 40., 37., 31., 26., 30., 29., 38., 24., 30., 29.,\n",
       "       29., 32., 32., 29., 27., 25., 31., 34., 33., 35., 27., 29., 32.,\n",
       "       23., 24., 29., 37., 31., 26., 40., 28., 22., 36., 30., 29., 38.,\n",
       "       26., 39., 28., 24., 28., 33., 37., 38., 40., 23., 28., 22., 23.,\n",
       "       25., 29., 23., 24., 38., 26., 25., 35., 35., 38., 32., 36., 35.,\n",
       "       40., 22., 37., 30., 25., 38., 27., 35., 30., 36., 26., 23., 26.,\n",
       "       33., 26., 22., 26., 22., 39., 37., 37., 24., 39., 29., 29., 21.,\n",
       "       35., 34., 33., 35., 30., 30., 24., 35., 32., 33., 24., 34., 25.,\n",
       "       35., 27., 35., 23., 34., 35., 31., 29., 22., 40., 24., 29., 28.,\n",
       "       28., 35., 26., 24., 32., 38., 33., 39., 30., 28., 39., 36., 35.,\n",
       "       24., 32., 30., 39., 32., 26., 24., 35., 27., 26., 24., 29., 22.,\n",
       "       28., 26., 30., 26., 28., 38., 35., 27., 21., 29., 38., 30., 29.,\n",
       "       40., 26., 30., 30., 22., 27., 24., 27., 23., 34., 29., 40., 37.,\n",
       "       39., 37., 28., 21., 30., 39., 27., 37., 22., 25., 35., 37., 29.,\n",
       "       33., 36., 35., 24., 36., 26., 40., 22., 30., 30., 23., 29., 21.,\n",
       "       25., 25., 39., 28., 33., 25., 34., 37., 35., 25., 40., 34., 31.,\n",
       "       36., 38., 28., 30., 21., 24., 29., 26., 28., 33., 22., 40., 36.,\n",
       "       23., 24., 28., 25., 26., 37., 30., 31., 21., 22., 33., 28., 30.,\n",
       "       28., 21., 39., 32., 24., 35., 31., 28., 29., 24., 34., 26., 21.,\n",
       "       38., 28., 28., 23., 25., 34., 23., 31., 28., 31., 37., 38., 32.,\n",
       "       34., 28., 29., 33., 21., 31., 24., 38., 21., 36., 35., 25., 37.,\n",
       "       26., 24., 34., 26., 24., 22., 37., 22., 34., 32., 35., 28., 23.,\n",
       "       30., 39., 36., 23., 32., 28., 21., 27., 29., 29., 37., 37., 22.,\n",
       "       29., 32., 37., 27., 27., 29., 28., 27., 31., 26., 38., 39., 28.,\n",
       "       34., 31., 29., 39., 36., 22., 28., 32., 35., 32., 38., 35., 30.,\n",
       "       21., 27., 39., 31., 23., 28., 37., 36., 38., 35., 38., 29., 30.,\n",
       "       32., 23., 31., 35., 23., 33., 39., 26., 32., 28., 35., 25., 23.,\n",
       "       37., 29., 23., 39., 24., 30., 37., 39., 30., 22., 27., 37., 26.,\n",
       "       40., 33., 31., 24., 30., 26., 34., 30., 23., 26., 25., 36., 23.,\n",
       "       31., 36., 27., 22., 28., 36., 29., 22., 34., 33., 33., 38., 33.,\n",
       "       29., 32., 36., 40., 40., 33., 22., 33., 25., 25., 30., 25., 21.,\n",
       "       21., 25., 29., 26., 30., 29., 32., 37., 32., 38., 28., 33., 31.,\n",
       "       23., 25., 27., 25., 40., 21., 27., 25., 32., 38., 27., 35., 36.,\n",
       "       26., 32., 34., 39., 31., 35., 32., 37., 31., 23., 33., 29., 26.,\n",
       "       26., 27., 30., 31., 40., 34., 39., 35., 39., 32., 26., 26., 30.,\n",
       "       34., 36., 29., 21., 40., 32., 40., 34., 22., 31., 24., 21., 32.,\n",
       "       24., 35., 35., 40., 39., 25., 28., 32., 27., 21., 34., 35., 31.,\n",
       "       24., 30., 31., 33., 36., 30., 27., 34., 26., 32., 23., 34., 31.,\n",
       "       38., 38., 31., 40., 37., 32., 30., 32., 32., 22., 30., 26., 30.,\n",
       "       30., 22., 30., 26., 34., 23., 36., 38., 24., 39., 32., 33., 25.,\n",
       "       32., 30., 24., 22., 30., 33., 32., 24., 36., 25., 33., 23., 32.,\n",
       "       31., 35., 32., 34., 21., 31., 34., 21., 27., 25., 32., 27., 27.,\n",
       "       25., 24., 35., 24., 29., 38., 34., 40., 23., 39., 38., 38., 22.,\n",
       "       35., 30., 33., 29., 27., 23., 34., 33., 33., 38., 21., 32., 24.,\n",
       "       36., 29., 30., 29., 28., 21., 34., 35., 36., 34., 28., 34., 34.,\n",
       "       30., 22., 40., 30., 27., 27., 30., 28., 40., 39., 34., 22., 32.,\n",
       "       40., 23., 24., 36., 35., 40., 34., 25., 27., 35., 33., 26., 24.,\n",
       "       29., 24., 32., 30., 36., 21., 31., 37., 32., 29., 37., 30., 37.,\n",
       "       26., 28., 22., 30., 23., 27., 24., 29., 36., 32., 30., 40., 32.,\n",
       "       36., 21., 23., 33., 39., 22., 28., 34., 37., 34., 36., 32., 36.,\n",
       "       25., 40., 33., 34., 29., 25., 21., 28., 38., 32., 33., 29., 35.,\n",
       "       30., 32., 33., 21., 33., 33., 32., 31., 28., 37., 33., 26., 24.,\n",
       "       27., 38., 38., 38., 29., 33., 31.])"
      ]
     },
     "execution_count": 25,
     "metadata": {},
     "output_type": "execute_result"
    }
   ],
   "source": [
    "u = series.mean()\n",
    "sd = series.std()\n",
    "\n",
    "data = series[(series > u-sd) & (series < u+sd)]\n",
    "data"
   ]
  },
  {
   "cell_type": "code",
   "execution_count": 27,
   "metadata": {},
   "outputs": [
    {
     "data": {
      "image/png": "[encoded data removed]",
      "text/plain": [
       "<Figure size 432x288 with 1 Axes>"
      ]
     },
     "metadata": {
      "needs_background": "light"
     },
     "output_type": "display_data"
    }
   ],
   "source": [
    "plt.boxplot(series, manage_ticks=True, showcaps=True, showfliers=True, showmeans=True)\n",
    "plt.grid()\n",
    "plt.show()"
   ]
  },
  {
   "cell_type": "code",
   "execution_count": 28,
   "metadata": {},
   "outputs": [
    {
     "data": {
      "text/plain": [
       "(0.9978200793266296, 0.21523404121398926)"
      ]
     },
     "execution_count": 28,
     "metadata": {},
     "output_type": "execute_result"
    }
   ],
   "source": [
    "from scipy.stats import shapiro\n",
    "\n",
    "t, p = shapiro(series)\n",
    "t, p"
   ]
  },
  {
   "cell_type": "code",
   "execution_count": 29,
   "metadata": {},
   "outputs": [
    {
     "data": {
      "text/plain": [
       "0.215"
      ]
     },
     "execution_count": 29,
     "metadata": {},
     "output_type": "execute_result"
    }
   ],
   "source": [
    "p = round(p, 3)\n",
    "p"
   ]
  },
  {
   "cell_type": "code",
   "execution_count": 30,
   "metadata": {},
   "outputs": [
    {
     "name": "stdout",
     "output_type": "stream",
     "text": [
      "Data is normal - Fail to reject null hypothesis\n"
     ]
    }
   ],
   "source": [
    "if (p <= 0.05):\n",
    "    print(\"Data not normal - null hypothesis rejected\")\n",
    "else:\n",
    "    print(\"Data is normal - Fail to reject null hypothesis\")"
   ]
  },
  {
   "cell_type": "code",
   "execution_count": null,
   "metadata": {},
   "outputs": [],
   "source": []
  }
 ],
 "metadata": {
  "kernelspec": {
   "display_name": "Python 3",
   "language": "python",
   "name": "python3"
  },
  "language_info": {
   "codemirror_mode": {
    "name": "ipython",
    "version": 3
   },
   "file_extension": ".py",
   "mimetype": "text/x-python",
   "name": "python",
   "nbconvert_exporter": "python",
   "pygments_lexer": "ipython3",
   "version": "3.7.4"
  }
 },
 "nbformat": 4,
 "nbformat_minor": 2
}
